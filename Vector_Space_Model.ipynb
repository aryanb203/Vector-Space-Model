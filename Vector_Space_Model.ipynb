{
  "nbformat": 4,
  "nbformat_minor": 0,
  "metadata": {
    "colab": {
      "provenance": []
    },
    "kernelspec": {
      "name": "python3",
      "display_name": "Python 3"
    },
    "language_info": {
      "name": "python"
    }
  },
  "cells": [
    {
      "cell_type": "markdown",
      "source": [
        "BY ARJAV JAIN AND ARYAN GUPTA"
      ],
      "metadata": {
        "id": "AWPKZRA1Ohqe"
      }
    },
    {
      "cell_type": "code",
      "execution_count": null,
      "metadata": {
        "colab": {
          "base_uri": "https://localhost:8080/"
        },
        "id": "WbYYd0BUNUle",
        "outputId": "82672ec2-25be-40d1-a77b-7e955cc8cdc4"
      },
      "outputs": [
        {
          "output_type": "stream",
          "name": "stderr",
          "text": [
            "[nltk_data] Downloading package punkt to /root/nltk_data...\n",
            "[nltk_data]   Package punkt is already up-to-date!\n",
            "[nltk_data] Downloading package stopwords to /root/nltk_data...\n",
            "[nltk_data]   Package stopwords is already up-to-date!\n",
            "[nltk_data] Downloading package wordnet to /root/nltk_data...\n",
            "[nltk_data]   Package wordnet is already up-to-date!\n",
            "[nltk_data] Downloading package omw-1.4 to /root/nltk_data...\n",
            "[nltk_data]   Package omw-1.4 is already up-to-date!\n"
          ]
        },
        {
          "output_type": "stream",
          "name": "stdout",
          "text": [
            "Drive already mounted at /content/drive; to attempt to forcibly remount, call drive.mount(\"/content/drive\", force_remount=True).\n"
          ]
        }
      ],
      "source": [
        "import nltk\n",
        "import re\n",
        "import math\n",
        "import glob\n",
        "\n",
        "from nltk.tokenize import word_tokenize\n",
        "from nltk.stem import PorterStemmer\n",
        "from nltk.corpus import stopwords\n",
        "from nltk.stem import WordNetLemmatizer\n",
        "from collections import defaultdict\n",
        "nltk.download(\"punkt\")\n",
        "nltk.download(\"stopwords\")\n",
        "nltk.download(\"wordnet\")\n",
        "nltk.download('omw-1.4')\n",
        "\n",
        "from google.colab import drive\n",
        "drive.mount('/content/drive')\n",
        "\n",
        "file_list = glob.glob(\"/content/drive/MyDrive/corpus/*\")\n",
        "for i in range(len(file_list)):\n",
        "  name = file_list[i].split(\"/\")\n",
        "  file_list[i] = name[-1]\n",
        "\n",
        "def read_document(file_name):\n",
        "  with open('/content/drive/MyDrive/corpus/{}'.format(file_name)) as file:\n",
        "    lines = file.read()\n",
        "  return lines\n",
        "\n",
        "def preprocess_text(text):\n",
        "  text = text.lower()\n",
        "  text = re.sub('[^A-Za-z0-9]+', ' ',text)\n",
        "  # preprocess text\n",
        "  tokens = word_tokenize(text)\n",
        "    \n",
        "  stop_words = set(stopwords.words(\"english\"))\n",
        "  tokens = [token for token in tokens if token not in stop_words]\n",
        "    \n",
        "  lemmatizer = WordNetLemmatizer()\n",
        "  lemmatized_tokens = [lemmatizer.lemmatize(token) for token in tokens]\n",
        "    \n",
        "\n",
        "  stemmer = PorterStemmer()\n",
        "  stemmed_tokens = [stemmer.stem(token) for token in lemmatized_tokens]\n",
        "    \n",
        "  return stemmed_tokens\n"
      ]
    },
    {
      "cell_type": "code",
      "source": [
        "# function to calculate term frequency for both query and doc\n",
        "def calculate_tf(tokens):\n",
        "    tf_dict = defaultdict(int)\n",
        "    for token in tokens:\n",
        "        # increment the count for that token in the tf_dict\n",
        "        tf_dict[token] += 1\n",
        "    # convert raw term frequency to log(tf) weights\n",
        "    for term, freq in tf_dict.items():\n",
        "        if freq == 0:\n",
        "          tf_dict[term] = 0\n",
        "        else:\n",
        "          tf_dict[term] = 1 + math.log10(freq)\n",
        "    return tf_dict"
      ],
      "metadata": {
        "id": "gmTBLQ_kZmgL"
      },
      "execution_count": null,
      "outputs": []
    },
    {
      "cell_type": "code",
      "source": [
        "# function to calculate inverse document frequency for query\n",
        "def calculate_idf(N, df):\n",
        "    # calculate inverse document frequency\n",
        "    return math.log10(N/df)"
      ],
      "metadata": {
        "id": "yIiMbwNGZoyn"
      },
      "execution_count": null,
      "outputs": []
    },
    {
      "cell_type": "code",
      "source": [
        "# function to build inverted index, document lengths, and number of documents\n",
        "def build_index(file_list):\n",
        "    inverted_index = defaultdict(list)\n",
        "    doc_lengths = defaultdict(float)\n",
        "    N = len(file_list)\n",
        "\n",
        "    for doc_id, file_name in enumerate(file_list):\n",
        "        text = read_document(file_name)\n",
        "        tokens = preprocess_text(text)\n",
        "        # calculate term frequency for each token in the document\n",
        "        tf_dict = calculate_tf(tokens)\n",
        "        # update document lengths by summing the square of each term weight\n",
        "        length = 0.0\n",
        "        for term, weight in tf_dict.items():\n",
        "            length += weight**2\n",
        "            # add postings to inverted index for each term\n",
        "            inverted_index[term].append((doc_id, weight))\n",
        "        \n",
        "        doc_lengths[doc_id] = math.sqrt(length)\n",
        "        \n",
        "    return inverted_index, doc_lengths, N"
      ],
      "metadata": {
        "id": "rWUIE4HyZqjV"
      },
      "execution_count": null,
      "outputs": []
    },
    {
      "cell_type": "code",
      "source": [
        "# function to rank documents based on cosine similarity\n",
        "#query ltc\n",
        "#doc lnc \n",
        "def rank_documents(query, inverted_index, doc_lengths, N):\n",
        "    tokens = preprocess_text(query)\n",
        "    query_tf = calculate_tf(tokens)\n",
        "    query_tf_idf = {}\n",
        "    normalized_query = 0\n",
        "    for term, tf in query_tf.items():\n",
        "        if term in inverted_index:\n",
        "            df = len(inverted_index[term])\n",
        "            idf = calculate_idf(N, df)\n",
        "            query_tf_idf[term] = tf * idf\n",
        "            normalized_query+=query_tf_idf[term]**2\n",
        "\n",
        "    normalized_query= math.sqrt(normalized_query)\n",
        "\n",
        "    scores = defaultdict(float)\n",
        "    for term, query_weight in query_tf_idf.items():\n",
        "        for doc_id, doc_weight in inverted_index[term]: \n",
        "            scores[doc_id] += doc_weight * query_weight\n",
        "    \n",
        "    # print(scores)\n",
        "    print(query_tf_idf)\n",
        "    \n",
        "    # cosine normalization \n",
        "    for doc_id, score in scores.items():\n",
        "        # scores[doc_id] /=doc_lengths[doc_id]\n",
        "    \n",
        "        scores[doc_id] /=(doc_lengths[doc_id]*normalized_query)\n",
        "    \n",
        "    ranked_documents = sorted(scores.items(), key=lambda x: -x[1])\n",
        "    return ranked_documents[:10]"
      ],
      "metadata": {
        "id": "XNdWC_MJNlfW"
      },
      "execution_count": null,
      "outputs": []
    },
    {
      "cell_type": "code",
      "source": [
        "inverted_index, doc_lengths, N = build_index(file_list)"
      ],
      "metadata": {
        "id": "szVVCdtmNof5"
      },
      "execution_count": null,
      "outputs": []
    },
    {
      "cell_type": "code",
      "source": [
        "# Then, prompt the user to enter a query\n",
        "query = input(\"Enter your query: \")\n",
        "# Developing your Zomato business account and profile is a great way to boost your restaurant’s online reputation"
      ],
      "metadata": {
        "colab": {
          "base_uri": "https://localhost:8080/"
        },
        "id": "LkvYJwx7Ns4G",
        "outputId": "934f11bb-6d32-4b68-ff71-c195394fcc4d"
      },
      "execution_count": null,
      "outputs": [
        {
          "name": "stdout",
          "output_type": "stream",
          "text": [
            "Enter your query: The company was founded in 1982 by John Warnock and Charles Geschke. While employed at Xerox Corporation’s Palo Alto (California) Research Center (PARC), the two computer scientists had developed a programming language specially designed to describe the precise position, shape, and size of objects on a computer-generated page. This page description language, later known as PostScript, described such objects as letters and graphics in mathematical terms, without reference to any specific computer or printer; any device capable of interpreting the language would be able to generate a representation of the page at any resolution the device supported. When Xerox declined to bring the technology to market, Warnock and Geschke formed their own company to do so, naming it after a creek near their homes.  In 1983 Apple Computer, Inc. (now Apple Inc.), acquired 15 percent of Adobe and became the first licensee of PostScript. In 1985 Apple introduced the first Macintosh-compatible PostScript printer, the LaserWriter, based on a laser-print engine developed by Canon Inc. The LaserWriter included PostScript renditions of several classic typefaces and a PostScript interpreter—in effect, a built-in computer dedicated to the task of translating PostScript commands into marks on each page.  Compared with the printing options previously available for personal computers, the combination of PostScript and laser printing represented a dramatic advance in typographical quality and design flexibility. Together with PageMaker, a page-layout application developed by Aldus Corporation, these technologies enabled any computer user to produce professional-looking reports, flyers, and newsletters without specialized lithography equipment and training—a phenomenon that became known as desktop publishing. Adobe made its initial public stock offering in 1986. Although revenues grew to $168.7 million by 1990, Adobe’s relations with Apple deteriorated in the late 1980s over PostScript licensing fees, and in 1989 Apple announced plans to sell its Adobe stock, collaborate with Microsoft Corporation on development of an enhanced PostScript clone, and introduce a new font-rendering technology of its own, called TrueType. For more than a year the dispute, known as the font wars, roiled the computer and publishing  worlds before Apple and Adobe reached a compromise. In the wake of the agreement, Microsoft abandoned its PostScript clone and adopted TrueType for its Windows operating systems. During the 1990s Adobe’s revenues from PostScript licensing continued to increase, as did its sales of PostScript fonts; by the end of 1998 the Adobe Type Library encompassed more than 2,500 typefaces. An ever-larger share of the company’s revenues, however, came from sales of application software, initially for the Macintosh platform but later also for the UNIX and Windows operating systems. The first such application, introduced in 1987, was Adobe Illustrator, a PostScript-based drawing package for artists, designers, and technical illustrators. Adobe Photoshop, an application for retouching digitized photographic images, followed three years later and quickly became Adobe’s most successful program. It was one of the first commercial applications with an interface enabling outside developers to make new features available through   plug-ins within the main program; scores of developers took advantage of this “open architecture,” helping to cement Photoshop’s dominance within its category.  In subsequent years Adobe added many other applications, primarily through a series of acquisitions. In 1991 it brought out Adobe Premiere, a program for editing video and multimedia productions. In 1994 the company acquired Aldus and its PageMaker software. The following year Adobe bought Frame Technology Corporation, developer of FrameMaker, a program designed for the production of technical manuals and book-length documents. It also purchased Ceneca Communications, Inc., creator of PageMill, a program for creating World Wide Web pages, and SiteMill, a Web site-management utility. In 1996 Adobe released its first title aimed at consumers, a simplified photo-editing program called PhotoDeluxe.  Another major company initiative in the 1990s—the Adobe Acrobat product family—was designed to provide a standard format for electronic document distribution. Once a document had been converted to Acrobat’s portable document format (PDF), regardless of its origins, users of any major computer operating system could read and print it, with formatting, typography, and graphics nearly intact, via the Acrobat Reader, an application the company offered for free. However, with the advent of the Internet and its need for compact file transfers, a competing format, HyperText Markup Language (HTML), eroded its market. In 1998 PDF became the new image format for the Macintosh operating system.  By 1997 almost 80 percent of Adobe’s total revenues came from application sales, and that year marked the first time that Windows-product revenues exceeded Macintosh-product revenues. In 2005 Adobe acquired Macromedia, Inc. In addition to Macromedia FreeHand (a major competitor of Illustrator), Dreamweaver (Web-authoring software), and Director (software for producing CD-ROMs), Adobe gained two innovative programs, Shockwave and Flash, for producing and distributing animations and interactive media over the Internet for viewing in Web browsers. In 2008 Adobe Media Player was introduced as a competitor to Apple’s iTunes, Windows Media Player, and RealPlayer from RealNetworks, Inc. In addition to playing audio and video files in a variety of formats on personal computers, Adobe Media Player was adopted by several television networks for deploying television shows over the Internet in the highly compact Flash format. Amazon.com, online retailer, manufacturer of electronic book readers, and Web services provider that became the iconic example of electronic commerce. Its headquarters are in Seattle, Washington.  Amazon.com is a vast Internet-based enterprise that sells books, music, movies, housewares, electronics, toys, and many other goods, either directly or as the middleman between other retailers and Amazon.com’s millions of customers. Its Web services business includes renting data storage and computing resources, so-called “cloud computing,” over the Internet. Its considerable online presence is such that, in 2012, 1 percent of all Internet traffic in North America traveled in and out of Amazon.com data centres.  The company also makes the market-leading Kindle e-book readers. Its promotion of these devices has led to dramatic growth in e-book publishing and turned Amazon.com into a major disruptive force in the book-publishing market. In 1994 Jeff Bezos, a former Wall Street hedge fund executive, incorporated Amazon.com, choosing the name primarily because it began with the first letter of the alphabet and because of its association with the vast South American river. On the basis of research he had conducted, Bezos concluded that books would be the most logical product initially to sell online. Amazon.com was not the first company to do so; Computer Literacy, a Silicon Valley bookstore, began selling books from its inventory to its technically astute customers in 1991. However, the promise of Amazon.com was to deliver any book to any reader anywhere. While Amazon.com famously started as a bookseller, Bezos contended from its start that the site was not merely a retailer of consumer products. He argued that Amazon.cm  was a technology company whose business was simplifying online transactions for consumers.  The Amazon.com business strategy was often met with skepticism. Financial journalists and analysts disparaged the company by referring to it as Amazon.bomb. Doubters claimed Amazon.com ultimately would lose in the marketplace to established bookselling chains, such as Borders and Barnes & Noble, once they had launched competing e-commerce sites. The lack of company profits until the final quarter of 2001 seemed to justify its critics.  However, Bezos dismissed naysayers as not understanding the massive growth potential of the Internet. He argued that to succeed as an online retailer, a company needed to “Get Big Fast,” a slogan he had printed on employee T-shirts. In fact, Amazon.com did grow fast, reaching 180,000 customer accounts by December 1996, after its first full year in operation, and less than a year later, in October 1997, it had 1,000,000 customer accounts. Its revenues jumped from $15.7 million in 1996 to $148 million in 1997, followed by $610 million in 1998. Amazon.com’s success propelled its founder to become Time magazine’s 1999 Person of the Year.  The company expanded rapidly in other areas. Its Associates program, where other Web sites could offer merchandise for sale and Amazon.com would fill the order and pay a commission, grew from one such site in 1996 to more than 350,000 by 1999. Following Bezos’s initial strategy, the company quickly began selling more than books. Music and video sales started in 1998. That same year it began international operations with the acquisition of online booksellers in the United Kingdom and Germany. By 1999 the company was also selling consumer electronics, video games, software, home-improvement items, toys and games, and much more.  To sustain that growth, Amazon.com needed more than private investors to underwrite the expansion. As a result, in May 1997, less than two years after opening its virtual doors to consumers and without ever having made a profit, Amazon.com became a public company, raising $54 million on the NASDAQ market. In addition to the cash, the company was able to use its high-flying stock to fund its aggressive growth and acquisition strategy.  Although offering more types of goods broadened its appeal, it was Amazon.com’s service that gained it customer loyalty and ultimate profitability. Its personalization tools recommended other products to buy on the basis of both a customer’s purchasing history and data from buyers of the same items. Its publishing of customer reviews of products fostered a “community of consumers” who helped each other find everything from the right book to the best blender. As noted above, Bezos claimed that Amazon.com was not a retailer but a technology company. To underscore the point, in 2002 the company launched Amazon Web Services (AWS), which initially offered data on Internet traffic patterns, Web site popularity, and other statistics for developers and marketers. In 2006 the company expanded its AWS portfolio with its Elastic Compute Cloud (EC2), which rents out computer processing power in small or large increments. That same year, the Simple Storage Service (S3), which rents data storage over the Internet, became a vailable.  S3 and EC2 quickly succeeded and helped popularize the idea that companies and individuals do not need to own computing resources; they can rent them as needed over the Internet, or “in the cloud.” For example, in 2007, soon after launch, the S3 service contained more than 10 billion objects, or files; five years later, it held more than 905 billion. AWS is even used by Amazon.com’s rivals, such as Netflix, which uses both S3 and EC2 for its competing video streaming service.\n"
          ]
        }
      ]
    },
    {
      "cell_type": "code",
      "source": [
        "# Use the rank_documents function to get the top 10 ranked documents\n",
        "top_documents = rank_documents(query, inverted_index, doc_lengths, N)\n",
        "\n",
        "# Print out the names of the top ranked documents and their scores\n",
        "for doc_id, score in top_documents:\n",
        "    if score >0:\n",
        "      print(f\"{file_list[doc_id]}, {score}\")"
      ],
      "metadata": {
        "colab": {
          "base_uri": "https://localhost:8080/"
        },
        "id": "_fdjlFAaNpJH",
        "outputId": "988286ac-940d-4abd-b7e5-e84d2f2cd9a7"
      },
      "execution_count": null,
      "outputs": [
        {
          "output_type": "stream",
          "name": "stdout",
          "text": [
            "{'compani': 0.31503831193837806, 'found': 0.2703611758975292, '1982': 1.0107238653917732, 'john': 1.3117538610557542, 'warnock': 2.0982801741150165, 'charl': 1.3117538610557542, 'geschk': 2.0982801741150165, 'employ': 0.6585413472804106, 'xerox': 2.0982801741150165, 'corpor': 0.612523503197519, 'palo': 1.6127838567197355, 'alto': 1.6127838567197355, 'california': 1.0107238653917732, 'research': 0.7433970534591091, 'center': 0.9138138523837167, 'parc': 1.6127838567197355, 'two': 0.3993562393692417, 'comput': 0.6871429148231267, 'scientist': 1.135662602000073, 'develop': 0.4088671759863924, 'program': 0.7986283147676576, 'languag': 1.1369721547816145, 'special': 0.856782046196785, 'design': 0.45933552818691636, 'describ': 1.4775311101559008, 'precis': 1.0107238653917732, 'posit': 0.7676858167054786, 'shape': 0.9138138523837167, 'size': 0.7676858167054786, 'object': 1.6775113676045446, 'gener': 0.5681501684453572, 'page': 1.0160199261702747, 'descript': 1.3117538610557542, 'later': 0.6943076638901667, 'known': 0.6036460944157341, 'postscript': 3.409333712620467, 'letter': 1.314982066208141, 'graphic': 0.9233330122547032, 'mathemat': 1.3117538610557542, 'term': 0.7676858167054786, 'without': 0.9051560593098095, 'refer': 1.188899232404473, 'specif': 0.4366925976640542, 'printer': 1.4775311101559008, 'devic': 0.37084018430447435, 'capabl': 0.7676858167054786, 'interpret': 2.0982801741150165, 'would': 0.6996077392266601, 'abl': 0.9987822747796288, 'represent': 1.6127838567197355, 'resolut': 1.0107238653917732, 'support': 0.49884050441289873, 'declin': 1.135662602000073, 'bring': 0.8346326063360918, 'technolog': 0.4807430629773838, 'market': 0.2945077684908535, 'form': 0.6127838567197355, 'name': 0.32663141352552494, 'creek': 1.6127838567197355, 'near': 0.9138138523837167, 'home': 0.6490064592933319, '1983': 1.6127838567197355, 'appl': 1.2150733491354337, 'inc': 1.1709861200959915, 'acquir': 0.8440140442726761, '15': 1.188899232404473, 'percent': 0.972745421179617, 'adob': 3.711064030834752, 'becam': 0.7054454398275084, 'first': 0.35453885694863113, 'license': 1.6127838567197355, '1985': 0.7096938697277919, 'introduc': 0.7476106206108846, 'macintosh': 1.619240267024509, 'compat': 1.3117538610557542, 'laserwrit': 2.0982801741150165, 'base': 0.46049825440637504, 'laser': 1.4775311101559008, 'print': 1.7171895299671784, 'engin': 0.49884050441289873, 'canon': 1.6127838567197355, 'includ': 0.21548416687275326, 'rendit': 1.6127838567197355, 'sever': 0.4974292192694903, 'classic': 1.3117538610557542, 'typefac': 2.0982801741150165, 'effect': 0.7676858167054786, 'built': 0.5713911715615104, 'dedic': 1.0107238653917732, 'task': 0.8346326063360918, 'translat': 0.9138138523837167, 'command': 1.135662602000073, 'mark': 1.314982066208141, 'compar': 0.9138138523837167, 'option': 0.5336026106721106, 'previous': 1.135662602000073, 'avail': 0.3517479995056713, 'person': 0.4331348231138134, 'combin': 0.7676858167054786, 'repres': 0.7676858167054786, 'dramat': 1.188899232404473, 'advanc': 0.6127838567197355, 'typograph': 1.6127838567197355, 'qualiti': 0.46665582104149744, 'flexibl': 1.135662602000073, 'togeth': 0.6127838567197355, 'pagemak': 2.0982801741150165, 'layout': 1.6127838567197355, 'applic': 0.8880880203955781, 'aldu': 2.0982801741150165, 'enabl': 0.856782046196785, 'user': 0.3025839482955874, 'produc': 0.972745421179617, 'profession': 0.7096938697277919, 'look': 0.5336026106721106, 'report': 0.7096938697277919, 'flyer': 1.3117538610557542, 'newslett': 1.3117538610557542, 'lithographi': 1.6127838567197355, 'equip': 0.7676858167054786, 'train': 1.135662602000073, 'phenomenon': 1.6127838567197355, 'desktop': 0.46665582104149744, 'publish': 1.1188419956444469, 'made': 0.43458338221205695, 'initi': 0.7765054885696194, 'public': 0.4056011244975974, 'stock': 0.7881957577976755, 'offer': 0.3951338967288009, '1986': 1.0107238653917732, 'although': 0.7972501784510351, 'revenu': 1.054272730729593, 'grew': 1.188899232404473, '168': 1.6127838567197355, '7': 0.7972501784510351, 'million': 0.5543455178482182, '1990': 1.349813864213244, 'relat': 0.6127838567197355, 'deterior': 1.3117538610557542, 'late': 0.6585413472804106, '1980': 0.7096938697277919, 'licens': 0.7972501784510351, 'fee': 0.7096938697277919, '1989': 1.0107238653917732, 'announc': 0.6127838567197355, 'plan': 0.7096938697277919, 'sell': 0.7266661786531889, 'collabor': 1.0107238653917732, 'microsoft': 0.856782046196785, 'enhanc': 0.8346326063360918, 'clone': 1.4775311101559008, 'new': 0.24464942699561648, 'font': 1.9376195091260373, 'render': 1.6127838567197355, 'call': 0.3435379528942411, 'truetyp': 2.0982801741150165, 'year': 0.446699299689479, 'disput': 1.6127838567197355, 'war': 0.6127838567197355, 'roil': 1.6127838567197355, 'world': 0.21548416687275326, 'reach': 0.7433970534591091, 'compromis': 1.135662602000073, 'wake': 1.3117538610557542, 'agreement': 0.9138138523837167, 'abandon': 1.6127838567197355, 'adopt': 1.314982066208141, 'window': 0.9817165001823348, 'oper': 0.7266661786531889, 'system': 0.6547040425387202, 'continu': 0.38233493534146157, 'increas': 0.5336026106721106, 'sale': 0.7928342422983014, 'end': 0.5336026106721106, '1998': 1.337131506068834, 'type': 0.607133220826191, 'librari': 1.0107238653917732, 'encompass': 1.6127838567197355, '2': 0.49884050441289873, '500': 0.8346326063360918, 'ever': 0.9233330122547032, 'larger': 1.0107238653917732, 'share': 0.21484384804769785, 'howev': 0.4331348231138134, 'came': 1.085882056202463, 'softwar': 0.6943076638901667, 'platform': 0.46665582104149744, 'also': 0.11008685376871077, 'unix': 1.135662602000073, '1987': 1.135662602000073, 'illustr': 2.382277314029472, 'draw': 1.135662602000073, 'packag': 1.135662602000073, 'artist': 1.135662602000073, 'technic': 1.23285356270111, 'photoshop': 1.7066311201615785, 'retouch': 1.6127838567197355, 'digit': 0.4366925976640542, 'photograph': 1.3117538610557542, 'imag': 0.9233330122547032, 'follow': 0.4331348231138134, 'three': 0.7096938697277919, 'quickli': 0.7881957577976755, 'success': 0.5681501684453572, 'one': 0.10578016531605251, 'commerci': 0.7096938697277919, 'interfac': 0.6127838567197355, 'outsid': 0.8346326063360918, 'make': 0.27951829069392936, 'featur': 0.23257261500812942, 'plug': 1.6127838567197355, 'in': 1.6127838567197355, 'within': 0.7972501784510351, 'main': 0.6127838567197355, 'score': 0.9138138523837167, 'took': 0.8346326063360918, 'advantag': 0.7676858167054786, 'open': 0.4974292192694903, 'architectur': 0.9138138523837167, 'help': 0.31735041439701595, 'cement': 1.6127838567197355, 'domin': 0.9138138523837167, 'categori': 0.8346326063360918, 'subsequ': 0.8346326063360918, 'ad': 0.46665582104149744, 'mani': 0.3025839482955874, 'primarili': 0.9233330122547032, 'seri': 0.5713911715615104, 'acquisit': 1.1339650368024854, '1991': 1.188899232404473, 'brought': 1.0107238653917732, 'premier': 1.135662602000073, 'edit': 1.085882056202463, 'video': 0.6943076638901667, 'multimedia': 1.135662602000073, 'product': 0.41985698074633404, '1994': 1.188899232404473, 'bought': 0.9138138523837167, 'frame': 1.3117538610557542, 'framemak': 1.6127838567197355, 'manual': 1.135662602000073, 'book': 1.0892924662073786, 'length': 1.6127838567197355, 'document': 1.4639846124252291, 'purchas': 0.7433970534591091, 'ceneca': 1.6127838567197355, 'commun': 0.5681501684453572, 'creator': 1.6127838567197355, 'pagemil': 1.6127838567197355, 'creat': 0.25105602070214256, 'wide': 0.6585413472804106, 'web': 1.0427889049232404, 'sitemil': 1.6127838567197355, 'site': 1.0896223810411092, 'manag': 0.46665582104149744, 'util': 1.135662602000073, '1996': 1.229878732853779, 'releas': 0.7096938697277919, 'titl': 1.3117538610557542, 'aim': 1.0107238653917732, 'consum': 0.6357092569031004, 'simplifi': 1.188899232404473, 'photo': 0.7096938697277919, 'photodelux': 1.6127838567197355, 'anoth': 0.33403025576690654, 'major': 0.7476106206108846, 'acrobat': 2.382277314029472, 'famili': 0.4366925976640542, 'provid': 0.2573574053398941, 'standard': 0.5713911715615104, 'format': 2.095408841067826, 'electron': 0.9065748297673066, 'distribut': 0.7972501784510351, 'convert': 1.0107238653917732, 'portabl': 0.9138138523837167, 'pdf': 2.0982801741150165, 'regardless': 1.6127838567197355, 'origin': 0.49884050441289873, 'could': 0.5681501684453572, 'read': 0.8346326063360918, 'typographi': 1.6127838567197355, 'nearli': 0.7676858167054786, 'intact': 1.6127838567197355, 'via': 0.6585413472804106, 'reader': 1.8193996183117285, 'free': 0.33403025576690654, 'advent': 1.3117538610557542, 'internet': 0.7646698706829231, 'need': 0.3951338967288009, 'compact': 1.4775311101559008, 'file': 0.7368479117833703, 'transfer': 1.0107238653917732, 'compet': 1.492961704222603, 'hypertext': 1.6127838567197355, 'markup': 1.6127838567197355, 'html': 1.6127838567197355, 'erod': 1.6127838567197355, '1997': 1.337131506068834, 'almost': 0.6585413472804106, '80': 0.9138138523837167, 'total': 1.0107238653917732, 'time': 0.27951829069392936, 'exceed': 1.3117538610557542, '2005': 0.9138138523837167, 'macromedia': 2.0982801741150165, 'addit': 0.6036460944157341, 'freehand': 1.6127838567197355, 'competitor': 0.7972501784510351, 'dreamweav': 1.6127838567197355, 'author': 1.135662602000073, 'director': 1.135662602000073, 'cd': 1.3117538610557542, 'rom': 1.6127838567197355, 'gain': 0.7972501784510351, 'innov': 0.9138138523837167, 'shockwav': 1.6127838567197355, 'flash': 1.7066311201615785, 'anim': 1.3117538610557542, 'interact': 0.7676858167054786, 'medium': 0.9154029353567077, 'view': 0.6585413472804106, 'browser': 0.6585413472804106, '2008': 0.9138138523837167, 'player': 1.1339650368024854, 'itun': 1.3117538610557542, 'realplay': 1.6127838567197355, 'realnetwork': 1.6127838567197355, 'play': 0.7676858167054786, 'audio': 1.3117538610557542, 'varieti': 0.6585413472804106, 'televis': 0.9233330122547032, 'network': 0.49884050441289873, 'deploy': 1.3117538610557542, 'show': 0.6585413472804106, 'highli': 0.9138138523837167, 'amazon': 2.660201836686533, 'com': 1.6172174612163537, 'onlin': 0.6798493433427695, 'retail': 1.7171895299671784, 'manufactur': 0.3575113516164294, 'servic': 0.22403579475425925, 'icon': 0.8346326063360918, 'exampl': 0.7972501784510351, 'commerc': 1.085882056202463, 'headquart': 0.46665582104149744, 'seattl': 1.3117538610557542, 'washington': 1.3117538610557542, 'vast': 1.314982066208141, 'enterpris': 1.0107238653917732, 'music': 0.856782046196785, 'movi': 0.8346326063360918, 'housewar': 1.6127838567197355, 'toy': 1.7066311201615785, 'good': 0.5681501684453572, 'either': 0.9138138523837167, 'directli': 0.6127838567197355, 'middleman': 1.6127838567197355, 'custom': 0.5361201038176305, 'busi': 0.22213814847344368, 'rent': 1.8193996183117285, 'data': 0.7928342422983014, 'storag': 1.1339650368024854, 'resourc': 1.085882056202463, 'cloud': 1.1339650368024854, 'consider': 1.135662602000073, 'presenc': 1.6127838567197355, '2012': 0.7676858167054786, '1': 0.5316839583012655, 'traffic': 1.7066311201615785, 'north': 0.9138138523837167, 'america': 0.6127838567197355, 'travel': 1.3117538610557542, 'centr': 1.135662602000073, 'lead': 0.6585413472804106, 'kindl': 1.6127838567197355, 'e': 0.9051560593098095, 'promot': 0.8346326063360918, 'led': 0.9138138523837167, 'growth': 1.229878732853779, 'turn': 0.6585413472804106, 'disrupt': 1.3117538610557542, 'forc': 0.8346326063360918, 'jeff': 1.3117538610557542, 'bezo': 2.3324967682318616, 'former': 0.9138138523837167, 'wall': 1.3117538610557542, 'street': 1.0107238653917732, 'hedg': 1.6127838567197355, 'fund': 1.188899232404473, 'execut': 0.6127838567197355, 'incorpor': 0.7096938697277919, 'choos': 0.49884050441289873, 'began': 1.0550227451131593, 'alphabet': 1.135662602000073, 'associ': 0.856782046196785, 'south': 0.9138138523837167, 'american': 0.5336026106721106, 'river': 1.6127838567197355, 'basi': 1.314982066208141, 'conduct': 1.0107238653917732, 'conclud': 1.135662602000073, 'logic': 1.135662602000073, 'literaci': 1.3117538610557542, 'silicon': 1.3117538610557542, 'valley': 1.6127838567197355, 'bookstor': 1.6127838567197355, 'inventori': 1.6127838567197355, 'astut': 1.6127838567197355, 'promis': 0.9138138523837167, 'deliv': 0.9138138523837167, 'anywher': 1.3117538610557542, 'famous': 1.3117538610557542, 'start': 0.3993562393692417, 'booksel': 2.382277314029472, 'contend': 1.135662602000073, 'mere': 1.3117538610557542, 'argu': 1.7066311201615785, 'cm': 1.6127838567197355, 'whose': 0.6585413472804106, 'transact': 0.9138138523837167, 'strategi': 1.23285356270111, 'often': 0.6585413472804106, 'met': 1.3117538610557542, 'skeptic': 1.3117538610557542, 'financi': 0.6127838567197355, 'journalist': 1.6127838567197355, 'analyst': 1.6127838567197355, 'disparag': 1.6127838567197355, 'bomb': 1.6127838567197355, 'doubter': 1.6127838567197355, 'claim': 0.9233330122547032, 'ultim': 0.9233330122547032, 'lose': 1.3117538610557542, 'marketplac': 1.135662602000073, 'establish': 0.7096938697277919, 'chain': 1.3117538610557542, 'border': 1.6127838567197355, 'barn': 1.6127838567197355, 'nobl': 1.6127838567197355, 'launch': 0.5647550594147407, 'lack': 1.0107238653917732, 'profit': 1.1339650368024854, 'final': 1.0107238653917732, 'quarter': 0.8346326063360918, '2001': 0.9138138523837167, 'seem': 1.0107238653917732, 'justifi': 1.6127838567197355, 'critic': 0.9138138523837167, 'dismiss': 1.3117538610557542, 'naysay': 1.6127838567197355, 'understand': 0.8346326063360918, 'massiv': 1.3117538610557542, 'potenti': 1.0107238653917732, 'succeed': 1.7066311201615785, 'get': 0.38233493534146157, 'big': 0.7096938697277919, 'fast': 1.085882056202463, 'slogan': 1.3117538610557542, 'employe': 0.6127838567197355, 'shirt': 1.3117538610557542, 'fact': 0.8346326063360918, 'grow': 0.7096938697277919, '180': 1.3117538610557542, '000': 1.1369721547816145, 'account': 0.4651329922433472, 'decemb': 0.7096938697277919, 'full': 0.6127838567197355, 'le': 0.6942330022490251, 'octob': 0.9138138523837167, 'jump': 1.135662602000073, '148': 1.6127838567197355, '610': 1.6127838567197355, 'propel': 1.6127838567197355, 'founder': 0.6585413472804106, 'becom': 0.3575113516164294, 'magazin': 1.3117538610557542, '1999': 0.972745421179617, 'expand': 0.5681501684453572, 'rapidli': 0.9138138523837167, 'area': 0.7096938697277919, 'merchandis': 1.3117538610557542, 'fill': 0.7096938697277919, 'order': 0.4366925976640542, 'pay': 0.6585413472804106, 'commiss': 0.9138138523837167, '350': 1.3117538610557542, 'intern': 0.3575113516164294, 'unit': 0.31175386105575426, 'kingdom': 1.135662602000073, 'germani': 0.9138138523837167, 'game': 0.6942330022490251, 'improv': 0.6585413472804106, 'item': 1.085882056202463, 'much': 0.5336026106721106, 'sustain': 0.9138138523837167, 'privat': 0.6127838567197355, 'investor': 1.0107238653917732, 'underwrit': 1.6127838567197355, 'expans': 0.8346326063360918, 'result': 0.4086638740638107, 'may': 0.31175386105575426, 'virtual': 0.8346326063360918, 'door': 1.3117538610557542, 'rais': 0.7676858167054786, '54': 1.6127838567197355, 'nasdaq': 1.6127838567197355, 'cash': 0.8346326063360918, 'use': 0.21548416687275326, 'high': 0.3575113516164294, 'fli': 1.6127838567197355, 'aggress': 1.135662602000073, 'broaden': 1.3117538610557542, 'appeal': 1.0107238653917732, 'loyalti': 1.3117538610557542, 'tool': 0.5336026106721106, 'recommend': 1.0107238653917732, 'buy': 0.6585413472804106, 'histori': 0.8346326063360918, 'buyer': 1.135662602000073, 'review': 1.3117538610557542, 'foster': 1.3117538610557542, 'find': 0.46665582104149744, 'everyth': 0.49884050441289873, 'right': 0.5713911715615104, 'best': 0.4086638740638107, 'blender': 1.6127838567197355, 'note': 0.9138138523837167, 'underscor': 1.6127838567197355, 'point': 0.6585413472804106, '2002': 0.8346326063360918, 'aw': 2.382277314029472, 'pattern': 1.6127838567197355, 'popular': 0.4651329922433472, 'statist': 1.6127838567197355, '2006': 0.9138138523837167, 'portfolio': 1.6127838567197355, 'elast': 1.6127838567197355, 'ec2': 2.382277314029472, 'process': 0.46665582104149744, 'power': 0.4366925976640542, 'small': 0.5336026106721106, 'larg': 0.4366925976640542, 'increment': 1.3117538610557542, 'simpl': 0.6585413472804106, 's3': 2.583776491510297, 'vailabl': 1.6127838567197355, 'idea': 0.7676858167054786, 'individu': 1.0107238653917732, '2007': 0.7096938697277919, 'soon': 0.7676858167054786, 'contain': 0.8346326063360918, '10': 0.46665582104149744, 'billion': 0.4651329922433472, 'five': 0.7676858167054786, 'held': 0.8346326063360918, '905': 1.6127838567197355, 'even': 0.3575113516164294, 'rival': 1.0107238653917732, 'netflix': 1.6127838567197355, 'us': 0.6585413472804106, 'stream': 0.9138138523837167}\n",
            "Adobe.txt, 0.6808116952407471\n",
            "Amazon.txt, 0.6231036152843159\n",
            "microsoft.txt, 0.21046309303620403\n",
            "google.txt, 0.19257581947437943\n",
            "Dell.txt, 0.19212415531569357\n",
            "HP.txt, 0.1810979063058625\n",
            "sony.txt, 0.17838473898698012\n",
            "flipkart.txt, 0.15491781396227602\n",
            "zomato.txt, 0.14803092226014036\n",
            "operating.txt, 0.1422580164233281\n"
          ]
        }
      ]
    }
  ]
}